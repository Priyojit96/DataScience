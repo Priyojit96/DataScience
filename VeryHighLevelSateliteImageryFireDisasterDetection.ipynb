{
  "nbformat": 4,
  "nbformat_minor": 0,
  "metadata": {
    "colab": {
      "name": "VeryHighLevelSateliteImageryFireDisasterDetection",
      "provenance": [],
      "collapsed_sections": []
    },
    "kernelspec": {
      "name": "python3",
      "display_name": "Python 3"
    },
    "accelerator": "GPU"
  },
  "cells": [
    {
      "cell_type": "code",
      "metadata": {
        "id": "XBQ24hjVbOVW",
        "colab": {
          "base_uri": "https://localhost:8080/"
        },
        "outputId": "8b1942ef-af9a-4909-c0db-2c673bb5513f"
      },
      "source": [
        "from google.colab import drive\n",
        "drive.mount('/content/gdrive')"
      ],
      "execution_count": null,
      "outputs": [
        {
          "output_type": "stream",
          "text": [
            "Mounted at /content/gdrive\n"
          ],
          "name": "stdout"
        }
      ]
    },
    {
      "cell_type": "code",
      "metadata": {
        "id": "xLca_kAxeJE7"
      },
      "source": [
        "import numpy as np\n",
        "import matplotlib.pyplot as plt\n",
        "import os \n",
        "import cv2\n",
        "import tensorflow as tf\n",
        "import numpy as np\n",
        "import matplotlib.pyplot as plt\n",
        "from tensorflow.keras.models import Sequential \n",
        "from tensorflow.keras.layers import Dense, Dropout, Activation, Flatten, Conv2D, MaxPooling2D\n",
        "from tensorflow.keras.callbacks import TensorBoard\n",
        "import pickle\n",
        "import time"
      ],
      "execution_count": null,
      "outputs": []
    },
    {
      "cell_type": "code",
      "metadata": {
        "id": "VE2fb8cueNvA"
      },
      "source": [
        "DATADIR= \"/content/gdrive/My Drive/Damage_detection_using_CNN\"\n",
        "CATEGORIES=[\"Damaged\",\"Undamaged\"]\n",
        "#going to iterate through the two categories\n",
        "for category in CATEGORIES:\n",
        "    path= os.path.join(DATADIR,category)\n",
        "    for img in os.listdir(path):\n",
        "        img_array= cv2.imread(os.path.join(path,img)) \n",
        "        break\n",
        "    break"
      ],
      "execution_count": null,
      "outputs": []
    },
    {
      "cell_type": "code",
      "metadata": {
        "id": "rSHMhj4fej-6",
        "colab": {
          "base_uri": "https://localhost:8080/"
        },
        "outputId": "407036da-36aa-4de8-9f82-3a608ac3963b"
      },
      "source": [
        "print(img_array.shape)"
      ],
      "execution_count": null,
      "outputs": [
        {
          "output_type": "stream",
          "text": [
            "(540, 1200, 3)\n"
          ],
          "name": "stdout"
        }
      ]
    },
    {
      "cell_type": "code",
      "metadata": {
        "id": "uxatBS1qeofC"
      },
      "source": [
        "IMG_SIZE= 200\n",
        "new_array=cv2.resize(img_array,(IMG_SIZE,IMG_SIZE))"
      ],
      "execution_count": null,
      "outputs": []
    },
    {
      "cell_type": "code",
      "metadata": {
        "id": "OeySmbwZes5f",
        "colab": {
          "base_uri": "https://localhost:8080/"
        },
        "outputId": "f2689a1e-75bd-4795-ff14-7a8ca5cb79ce"
      },
      "source": [
        "new_array.shape"
      ],
      "execution_count": null,
      "outputs": [
        {
          "output_type": "execute_result",
          "data": {
            "text/plain": [
              "(200, 200, 3)"
            ]
          },
          "metadata": {
            "tags": []
          },
          "execution_count": 11
        }
      ]
    },
    {
      "cell_type": "code",
      "metadata": {
        "id": "DcBcPrwbexIX"
      },
      "source": [
        "training_data=[]\n",
        "def create_training_data():\n",
        "    for category in CATEGORIES:\n",
        "        path= os.path.join(DATADIR,category)#path to dataset\n",
        "        class_num = CATEGORIES.index(category)\n",
        "        for img in os.listdir(path):\n",
        "            try:\n",
        "                img_array= cv2.imread(os.path.join(path,img))\n",
        "                new_array=cv2.resize(img_array,(IMG_SIZE,IMG_SIZE))\n",
        "                training_data.append([new_array,class_num])\n",
        "            except Exception as e:\n",
        "                pass\n",
        "\n",
        "create_training_data()"
      ],
      "execution_count": null,
      "outputs": []
    },
    {
      "cell_type": "code",
      "metadata": {
        "id": "WO0I27Mve-_P",
        "colab": {
          "base_uri": "https://localhost:8080/"
        },
        "outputId": "5284454d-78ea-484e-9de6-14411e04558a"
      },
      "source": [
        "print(len(training_data))"
      ],
      "execution_count": null,
      "outputs": [
        {
          "output_type": "stream",
          "text": [
            "1318\n"
          ],
          "name": "stdout"
        }
      ]
    },
    {
      "cell_type": "code",
      "metadata": {
        "id": "CKoMQxnrf8Dm",
        "colab": {
          "base_uri": "https://localhost:8080/"
        },
        "outputId": "0a592021-d2b6-4a5b-f6ce-fdae056a06f7"
      },
      "source": [
        "new_array.shape"
      ],
      "execution_count": null,
      "outputs": [
        {
          "output_type": "execute_result",
          "data": {
            "text/plain": [
              "(200, 200, 3)"
            ]
          },
          "metadata": {
            "tags": []
          },
          "execution_count": 14
        }
      ]
    },
    {
      "cell_type": "code",
      "metadata": {
        "id": "v2wNtyd2f_gN"
      },
      "source": [
        "import random\n",
        "random.shuffle(training_data)"
      ],
      "execution_count": null,
      "outputs": []
    },
    {
      "cell_type": "code",
      "metadata": {
        "id": "Uu8FEvAWgD4n",
        "colab": {
          "base_uri": "https://localhost:8080/"
        },
        "outputId": "ca527c71-1482-480b-f424-3dfebe821ea1"
      },
      "source": [
        "for sample in training_data[:10]:\n",
        "    print(sample[1])"
      ],
      "execution_count": null,
      "outputs": [
        {
          "output_type": "stream",
          "text": [
            "1\n",
            "0\n",
            "1\n",
            "1\n",
            "1\n",
            "1\n",
            "0\n",
            "0\n",
            "1\n",
            "0\n"
          ],
          "name": "stdout"
        }
      ]
    },
    {
      "cell_type": "code",
      "metadata": {
        "id": "qxF1AEplgIZw"
      },
      "source": [
        "X_calamity=[]#features\n",
        "y_calamity=[]#labels"
      ],
      "execution_count": null,
      "outputs": []
    },
    {
      "cell_type": "code",
      "metadata": {
        "id": "DkR5z5-9gMTA"
      },
      "source": [
        "for features, label in training_data:\n",
        "    X_calamity.append(features)\n",
        "    y_calamity.append(label)\n",
        "    \n",
        "X_calamity= np.array(X_calamity).reshape(-3,IMG_SIZE,IMG_SIZE,3)"
      ],
      "execution_count": null,
      "outputs": []
    },
    {
      "cell_type": "code",
      "metadata": {
        "id": "_8tyysnBgYaU",
        "colab": {
          "base_uri": "https://localhost:8080/"
        },
        "outputId": "10cfd74e-03cd-4ecc-f2e2-c7de2053971d"
      },
      "source": [
        "X_calamity[0].shape"
      ],
      "execution_count": null,
      "outputs": [
        {
          "output_type": "execute_result",
          "data": {
            "text/plain": [
              "(200, 200, 3)"
            ]
          },
          "metadata": {
            "tags": []
          },
          "execution_count": 19
        }
      ]
    },
    {
      "cell_type": "code",
      "metadata": {
        "id": "1I4ogq4tgckN",
        "colab": {
          "base_uri": "https://localhost:8080/"
        },
        "outputId": "720210df-ba07-4036-80ba-8fbdbbf1df36"
      },
      "source": [
        "X_calamity[1]\n",
        "y_calamity[1]"
      ],
      "execution_count": null,
      "outputs": [
        {
          "output_type": "execute_result",
          "data": {
            "text/plain": [
              "0"
            ]
          },
          "metadata": {
            "tags": []
          },
          "execution_count": 20
        }
      ]
    },
    {
      "cell_type": "code",
      "metadata": {
        "id": "fPuTWvtqggBn"
      },
      "source": [
        "X_calamity=X_calamity/255.0 #normalising"
      ],
      "execution_count": null,
      "outputs": []
    },
    {
      "cell_type": "code",
      "metadata": {
        "id": "N1nI2eSwgisk",
        "colab": {
          "base_uri": "https://localhost:8080/"
        },
        "outputId": "ee2f7572-4a4e-48a1-cba9-e1791230d3c9"
      },
      "source": [
        "X_calamity.shape[1:]"
      ],
      "execution_count": null,
      "outputs": [
        {
          "output_type": "execute_result",
          "data": {
            "text/plain": [
              "(200, 200, 3)"
            ]
          },
          "metadata": {
            "tags": []
          },
          "execution_count": 22
        }
      ]
    },
    {
      "cell_type": "code",
      "metadata": {
        "id": "wRem8pjKgnBz"
      },
      "source": [
        "model = Sequential()\n",
        "#First Convulational layer\n",
        "model.add(Conv2D(kernel_size=3, strides=1, filters=32,input_shape=X_calamity.shape[1:]))\n",
        "model.add(Activation(\"relu\"))\n",
        "model.add(MaxPooling2D(pool_size=(2,2)))\n",
        "#Second Convulational layer\n",
        "model.add(Conv2D(kernel_size=3, strides=1, filters=64, padding='same',\n",
        "                 activation='relu', name='layer_conv2'))\n",
        "model.add(MaxPooling2D(pool_size=(2,2)))\n",
        "#third Convulational layer\n",
        "model.add(Conv2D(kernel_size=3, strides=1, filters=128, padding='same',\n",
        "                 activation='relu', name='layer_conv3'))\n",
        "model.add(MaxPooling2D(pool_size=(2,2)))\n",
        "#drop-out layer \n",
        "model.add(Dropout(0.25))\n",
        "model.add(MaxPooling2D(pool_size=2, strides=2))\n",
        "#fourth Convulational layer\n",
        "model.add(Conv2D(kernel_size=3, strides=1, filters=64, padding='same',\n",
        "                 activation='relu', name='layer_conv4'))\n",
        "model.add(MaxPooling2D(pool_size=(2,2)))\n",
        "#fifth Convulational layer\n",
        "model.add(Conv2D(kernel_size=3, strides=1, filters=32, padding='same',\n",
        "                 activation='relu', name='layer_conv5'))\n",
        "model.add(MaxPooling2D(pool_size=(2,2)))\n",
        "#sixth Convulational layer\n",
        "model.add(Conv2D(kernel_size=3, strides=1, filters=16, padding='same',\n",
        "                 activation='relu', name='layer_conv6'))\n",
        "model.add(MaxPooling2D(pool_size=(2,2)))\n",
        "\n",
        "#seventh Convulational layer\n",
        "model.add(Flatten())\n",
        "model.add(Dense(32))\n",
        "model.add(Activation(\"relu\"))\n",
        "\n",
        "#output layer \n",
        "model.add(Dense(1))\n",
        "model.add(Activation('sigmoid'))\n",
        "\n",
        "model.compile(loss=\"binary_crossentropy\",\n",
        "             optimizer=\"adam\",\n",
        "             metrics=['accuracy'])"
      ],
      "execution_count": null,
      "outputs": []
    },
    {
      "cell_type": "code",
      "metadata": {
        "id": "JUuN6YwkguYg"
      },
      "source": [
        "y_calamity=np.array(y_calamity)\n",
        "X_calamity=np.array(X_calamity)"
      ],
      "execution_count": null,
      "outputs": []
    },
    {
      "cell_type": "code",
      "metadata": {
        "id": "9t4kHIEDYpk-"
      },
      "source": [
        "model.save(\"model.h5\")"
      ],
      "execution_count": null,
      "outputs": []
    },
    {
      "cell_type": "code",
      "metadata": {
        "id": "gfHDqPSVgyS5",
        "colab": {
          "base_uri": "https://localhost:8080/"
        },
        "outputId": "75632369-a390-4301-8a66-e200f5c7b708"
      },
      "source": [
        "model.summary()"
      ],
      "execution_count": null,
      "outputs": [
        {
          "output_type": "stream",
          "text": [
            "Model: \"sequential\"\n",
            "_________________________________________________________________\n",
            "Layer (type)                 Output Shape              Param #   \n",
            "=================================================================\n",
            "conv2d (Conv2D)              (None, 198, 198, 32)      896       \n",
            "_________________________________________________________________\n",
            "activation (Activation)      (None, 198, 198, 32)      0         \n",
            "_________________________________________________________________\n",
            "max_pooling2d (MaxPooling2D) (None, 99, 99, 32)        0         \n",
            "_________________________________________________________________\n",
            "layer_conv2 (Conv2D)         (None, 99, 99, 64)        18496     \n",
            "_________________________________________________________________\n",
            "max_pooling2d_1 (MaxPooling2 (None, 49, 49, 64)        0         \n",
            "_________________________________________________________________\n",
            "layer_conv3 (Conv2D)         (None, 49, 49, 128)       73856     \n",
            "_________________________________________________________________\n",
            "max_pooling2d_2 (MaxPooling2 (None, 24, 24, 128)       0         \n",
            "_________________________________________________________________\n",
            "dropout (Dropout)            (None, 24, 24, 128)       0         \n",
            "_________________________________________________________________\n",
            "max_pooling2d_3 (MaxPooling2 (None, 12, 12, 128)       0         \n",
            "_________________________________________________________________\n",
            "layer_conv4 (Conv2D)         (None, 12, 12, 64)        73792     \n",
            "_________________________________________________________________\n",
            "max_pooling2d_4 (MaxPooling2 (None, 6, 6, 64)          0         \n",
            "_________________________________________________________________\n",
            "layer_conv5 (Conv2D)         (None, 6, 6, 32)          18464     \n",
            "_________________________________________________________________\n",
            "max_pooling2d_5 (MaxPooling2 (None, 3, 3, 32)          0         \n",
            "_________________________________________________________________\n",
            "layer_conv6 (Conv2D)         (None, 3, 3, 16)          4624      \n",
            "_________________________________________________________________\n",
            "max_pooling2d_6 (MaxPooling2 (None, 1, 1, 16)          0         \n",
            "_________________________________________________________________\n",
            "flatten (Flatten)            (None, 16)                0         \n",
            "_________________________________________________________________\n",
            "dense (Dense)                (None, 32)                544       \n",
            "_________________________________________________________________\n",
            "activation_1 (Activation)    (None, 32)                0         \n",
            "_________________________________________________________________\n",
            "dense_1 (Dense)              (None, 1)                 33        \n",
            "_________________________________________________________________\n",
            "activation_2 (Activation)    (None, 1)                 0         \n",
            "=================================================================\n",
            "Total params: 190,705\n",
            "Trainable params: 190,705\n",
            "Non-trainable params: 0\n",
            "_________________________________________________________________\n"
          ],
          "name": "stdout"
        }
      ]
    },
    {
      "cell_type": "code",
      "metadata": {
        "id": "sih2QHc2g3q0",
        "colab": {
          "base_uri": "https://localhost:8080/"
        },
        "outputId": "2a57670d-8617-47bf-a73c-26e8d15b6c0e"
      },
      "source": [
        "from tensorflow.keras.callbacks import EarlyStopping\n",
        "early_stop = EarlyStopping(monitor='val_loss',patience=0)\n",
        "#Results \n",
        "history=model.fit(X_calamity,y_calamity,batch_size=128, epochs=100, validation_split=0.1)"
      ],
      "execution_count": null,
      "outputs": [
        {
          "output_type": "stream",
          "text": [
            "Epoch 1/100\n",
            "10/10 [==============================] - 8s 223ms/step - loss: 0.6838 - accuracy: 0.5506 - val_loss: 0.6371 - val_accuracy: 0.6364\n",
            "Epoch 2/100\n",
            "10/10 [==============================] - 1s 149ms/step - loss: 0.6270 - accuracy: 0.6265 - val_loss: 0.5724 - val_accuracy: 0.6667\n",
            "Epoch 3/100\n",
            "10/10 [==============================] - 2s 151ms/step - loss: 0.5777 - accuracy: 0.6931 - val_loss: 0.5752 - val_accuracy: 0.6439\n",
            "Epoch 4/100\n",
            "10/10 [==============================] - 2s 153ms/step - loss: 0.5437 - accuracy: 0.7024 - val_loss: 0.5257 - val_accuracy: 0.6894\n",
            "Epoch 5/100\n",
            "10/10 [==============================] - 2s 152ms/step - loss: 0.5122 - accuracy: 0.7327 - val_loss: 0.4927 - val_accuracy: 0.7576\n",
            "Epoch 6/100\n",
            "10/10 [==============================] - 2s 150ms/step - loss: 0.5089 - accuracy: 0.7361 - val_loss: 0.5155 - val_accuracy: 0.7273\n",
            "Epoch 7/100\n",
            "10/10 [==============================] - 2s 151ms/step - loss: 0.4805 - accuracy: 0.7648 - val_loss: 0.5138 - val_accuracy: 0.6894\n",
            "Epoch 8/100\n",
            "10/10 [==============================] - 2s 151ms/step - loss: 0.4649 - accuracy: 0.7707 - val_loss: 0.4553 - val_accuracy: 0.7879\n",
            "Epoch 9/100\n",
            "10/10 [==============================] - 2s 151ms/step - loss: 0.4318 - accuracy: 0.7816 - val_loss: 0.4592 - val_accuracy: 0.7576\n",
            "Epoch 10/100\n",
            "10/10 [==============================] - 2s 151ms/step - loss: 0.4184 - accuracy: 0.7985 - val_loss: 0.4624 - val_accuracy: 0.7576\n",
            "Epoch 11/100\n",
            "10/10 [==============================] - 2s 153ms/step - loss: 0.4121 - accuracy: 0.8128 - val_loss: 0.4564 - val_accuracy: 0.7652\n",
            "Epoch 12/100\n",
            "10/10 [==============================] - 1s 148ms/step - loss: 0.3885 - accuracy: 0.8187 - val_loss: 0.4834 - val_accuracy: 0.7576\n",
            "Epoch 13/100\n",
            "10/10 [==============================] - 2s 153ms/step - loss: 0.3860 - accuracy: 0.8204 - val_loss: 0.5007 - val_accuracy: 0.7424\n",
            "Epoch 14/100\n",
            "10/10 [==============================] - 2s 153ms/step - loss: 0.4122 - accuracy: 0.8078 - val_loss: 0.5264 - val_accuracy: 0.6970\n",
            "Epoch 15/100\n",
            "10/10 [==============================] - 2s 151ms/step - loss: 0.4031 - accuracy: 0.8162 - val_loss: 0.4920 - val_accuracy: 0.7879\n",
            "Epoch 16/100\n",
            "10/10 [==============================] - 2s 153ms/step - loss: 0.3505 - accuracy: 0.8373 - val_loss: 0.4618 - val_accuracy: 0.8258\n",
            "Epoch 17/100\n",
            "10/10 [==============================] - 2s 152ms/step - loss: 0.3500 - accuracy: 0.8280 - val_loss: 0.4229 - val_accuracy: 0.8258\n",
            "Epoch 18/100\n",
            "10/10 [==============================] - 2s 154ms/step - loss: 0.3379 - accuracy: 0.8415 - val_loss: 0.4614 - val_accuracy: 0.8258\n",
            "Epoch 19/100\n",
            "10/10 [==============================] - 2s 152ms/step - loss: 0.3021 - accuracy: 0.8626 - val_loss: 0.4561 - val_accuracy: 0.7803\n",
            "Epoch 20/100\n",
            "10/10 [==============================] - 2s 152ms/step - loss: 0.2890 - accuracy: 0.8718 - val_loss: 0.4797 - val_accuracy: 0.7955\n",
            "Epoch 21/100\n",
            "10/10 [==============================] - 2s 151ms/step - loss: 0.2917 - accuracy: 0.8769 - val_loss: 0.4294 - val_accuracy: 0.8333\n",
            "Epoch 22/100\n",
            "10/10 [==============================] - 2s 150ms/step - loss: 0.2591 - accuracy: 0.8895 - val_loss: 0.5623 - val_accuracy: 0.7652\n",
            "Epoch 23/100\n",
            "10/10 [==============================] - 2s 152ms/step - loss: 0.3027 - accuracy: 0.8583 - val_loss: 0.5010 - val_accuracy: 0.7803\n",
            "Epoch 24/100\n",
            "10/10 [==============================] - 2s 153ms/step - loss: 0.2747 - accuracy: 0.8803 - val_loss: 0.4982 - val_accuracy: 0.7879\n",
            "Epoch 25/100\n",
            "10/10 [==============================] - 2s 153ms/step - loss: 0.2048 - accuracy: 0.9191 - val_loss: 0.4921 - val_accuracy: 0.8106\n",
            "Epoch 26/100\n",
            "10/10 [==============================] - 2s 153ms/step - loss: 0.1826 - accuracy: 0.9224 - val_loss: 0.5659 - val_accuracy: 0.7803\n",
            "Epoch 27/100\n",
            "10/10 [==============================] - 2s 156ms/step - loss: 0.1883 - accuracy: 0.9191 - val_loss: 0.4816 - val_accuracy: 0.8258\n",
            "Epoch 28/100\n",
            "10/10 [==============================] - 2s 154ms/step - loss: 0.1923 - accuracy: 0.9216 - val_loss: 0.6397 - val_accuracy: 0.7424\n",
            "Epoch 29/100\n",
            "10/10 [==============================] - 2s 153ms/step - loss: 0.1835 - accuracy: 0.9089 - val_loss: 0.5267 - val_accuracy: 0.7652\n",
            "Epoch 30/100\n",
            "10/10 [==============================] - 2s 154ms/step - loss: 0.1370 - accuracy: 0.9511 - val_loss: 0.6585 - val_accuracy: 0.7803\n",
            "Epoch 31/100\n",
            "10/10 [==============================] - 2s 153ms/step - loss: 0.1442 - accuracy: 0.9359 - val_loss: 0.5511 - val_accuracy: 0.7879\n",
            "Epoch 32/100\n",
            "10/10 [==============================] - 2s 156ms/step - loss: 0.1085 - accuracy: 0.9587 - val_loss: 0.6239 - val_accuracy: 0.7955\n",
            "Epoch 33/100\n",
            "10/10 [==============================] - 2s 153ms/step - loss: 0.1245 - accuracy: 0.9503 - val_loss: 0.6045 - val_accuracy: 0.7803\n",
            "Epoch 34/100\n",
            "10/10 [==============================] - 2s 154ms/step - loss: 0.1396 - accuracy: 0.9351 - val_loss: 0.6304 - val_accuracy: 0.7348\n",
            "Epoch 35/100\n",
            "10/10 [==============================] - 2s 155ms/step - loss: 0.1229 - accuracy: 0.9418 - val_loss: 0.6615 - val_accuracy: 0.7727\n",
            "Epoch 36/100\n",
            "10/10 [==============================] - 2s 155ms/step - loss: 0.1155 - accuracy: 0.9444 - val_loss: 0.5131 - val_accuracy: 0.8106\n",
            "Epoch 37/100\n",
            "10/10 [==============================] - 2s 155ms/step - loss: 0.1005 - accuracy: 0.9663 - val_loss: 0.6575 - val_accuracy: 0.7803\n",
            "Epoch 38/100\n",
            "10/10 [==============================] - 2s 152ms/step - loss: 0.0954 - accuracy: 0.9570 - val_loss: 0.7310 - val_accuracy: 0.7879\n",
            "Epoch 39/100\n",
            "10/10 [==============================] - 2s 156ms/step - loss: 0.0738 - accuracy: 0.9671 - val_loss: 0.7155 - val_accuracy: 0.8106\n",
            "Epoch 40/100\n",
            "10/10 [==============================] - 2s 154ms/step - loss: 0.0703 - accuracy: 0.9722 - val_loss: 0.7790 - val_accuracy: 0.7576\n",
            "Epoch 41/100\n",
            "10/10 [==============================] - 2s 154ms/step - loss: 0.0501 - accuracy: 0.9798 - val_loss: 0.7491 - val_accuracy: 0.8106\n",
            "Epoch 42/100\n",
            "10/10 [==============================] - 2s 153ms/step - loss: 0.0640 - accuracy: 0.9747 - val_loss: 0.8218 - val_accuracy: 0.8182\n",
            "Epoch 43/100\n",
            "10/10 [==============================] - 2s 154ms/step - loss: 0.0695 - accuracy: 0.9739 - val_loss: 0.8241 - val_accuracy: 0.7879\n",
            "Epoch 44/100\n",
            "10/10 [==============================] - 2s 154ms/step - loss: 0.0788 - accuracy: 0.9663 - val_loss: 0.7543 - val_accuracy: 0.8106\n",
            "Epoch 45/100\n",
            "10/10 [==============================] - 2s 153ms/step - loss: 0.0614 - accuracy: 0.9798 - val_loss: 0.8546 - val_accuracy: 0.8182\n",
            "Epoch 46/100\n",
            "10/10 [==============================] - 2s 154ms/step - loss: 0.0537 - accuracy: 0.9806 - val_loss: 0.8845 - val_accuracy: 0.7576\n",
            "Epoch 47/100\n",
            "10/10 [==============================] - 2s 154ms/step - loss: 0.0514 - accuracy: 0.9781 - val_loss: 0.8100 - val_accuracy: 0.7803\n",
            "Epoch 48/100\n",
            "10/10 [==============================] - 2s 153ms/step - loss: 0.0498 - accuracy: 0.9823 - val_loss: 0.7608 - val_accuracy: 0.7803\n",
            "Epoch 49/100\n",
            "10/10 [==============================] - 2s 154ms/step - loss: 0.0490 - accuracy: 0.9823 - val_loss: 0.7796 - val_accuracy: 0.7955\n",
            "Epoch 50/100\n",
            "10/10 [==============================] - 2s 152ms/step - loss: 0.0388 - accuracy: 0.9806 - val_loss: 0.7678 - val_accuracy: 0.8030\n",
            "Epoch 51/100\n",
            "10/10 [==============================] - 2s 153ms/step - loss: 0.0356 - accuracy: 0.9806 - val_loss: 0.8532 - val_accuracy: 0.7652\n",
            "Epoch 52/100\n",
            "10/10 [==============================] - 2s 154ms/step - loss: 0.0367 - accuracy: 0.9806 - val_loss: 0.8560 - val_accuracy: 0.7727\n",
            "Epoch 53/100\n",
            "10/10 [==============================] - 2s 154ms/step - loss: 0.0666 - accuracy: 0.9781 - val_loss: 0.7874 - val_accuracy: 0.7803\n",
            "Epoch 54/100\n",
            "10/10 [==============================] - 2s 156ms/step - loss: 0.0746 - accuracy: 0.9739 - val_loss: 0.8337 - val_accuracy: 0.7576\n",
            "Epoch 55/100\n",
            "10/10 [==============================] - 2s 153ms/step - loss: 0.0488 - accuracy: 0.9831 - val_loss: 0.9159 - val_accuracy: 0.7652\n",
            "Epoch 56/100\n",
            "10/10 [==============================] - 2s 151ms/step - loss: 0.0484 - accuracy: 0.9789 - val_loss: 0.8762 - val_accuracy: 0.7955\n",
            "Epoch 57/100\n",
            "10/10 [==============================] - 2s 153ms/step - loss: 0.0462 - accuracy: 0.9789 - val_loss: 0.8418 - val_accuracy: 0.7803\n",
            "Epoch 58/100\n",
            "10/10 [==============================] - 2s 156ms/step - loss: 0.0441 - accuracy: 0.9815 - val_loss: 0.8459 - val_accuracy: 0.7879\n",
            "Epoch 59/100\n",
            "10/10 [==============================] - 2s 152ms/step - loss: 0.0416 - accuracy: 0.9815 - val_loss: 0.8610 - val_accuracy: 0.7803\n",
            "Epoch 60/100\n",
            "10/10 [==============================] - 2s 151ms/step - loss: 0.0393 - accuracy: 0.9806 - val_loss: 0.8180 - val_accuracy: 0.7955\n",
            "Epoch 61/100\n",
            "10/10 [==============================] - 2s 154ms/step - loss: 0.0361 - accuracy: 0.9840 - val_loss: 0.9291 - val_accuracy: 0.7803\n",
            "Epoch 62/100\n",
            "10/10 [==============================] - 2s 152ms/step - loss: 0.0331 - accuracy: 0.9831 - val_loss: 0.8461 - val_accuracy: 0.7955\n",
            "Epoch 63/100\n",
            "10/10 [==============================] - 2s 153ms/step - loss: 0.0418 - accuracy: 0.9840 - val_loss: 0.8826 - val_accuracy: 0.7879\n",
            "Epoch 64/100\n",
            "10/10 [==============================] - 2s 154ms/step - loss: 0.0429 - accuracy: 0.9798 - val_loss: 1.0012 - val_accuracy: 0.7727\n",
            "Epoch 65/100\n",
            "10/10 [==============================] - 2s 154ms/step - loss: 0.0780 - accuracy: 0.9713 - val_loss: 0.9311 - val_accuracy: 0.7576\n",
            "Epoch 66/100\n",
            "10/10 [==============================] - 2s 152ms/step - loss: 0.1032 - accuracy: 0.9570 - val_loss: 0.7074 - val_accuracy: 0.7500\n",
            "Epoch 67/100\n",
            "10/10 [==============================] - 2s 153ms/step - loss: 0.1016 - accuracy: 0.9553 - val_loss: 1.0228 - val_accuracy: 0.7652\n",
            "Epoch 68/100\n",
            "10/10 [==============================] - 2s 153ms/step - loss: 0.0816 - accuracy: 0.9646 - val_loss: 0.7406 - val_accuracy: 0.8106\n",
            "Epoch 69/100\n",
            "10/10 [==============================] - 2s 152ms/step - loss: 0.0784 - accuracy: 0.9705 - val_loss: 0.8219 - val_accuracy: 0.7955\n",
            "Epoch 70/100\n",
            "10/10 [==============================] - 2s 154ms/step - loss: 0.0530 - accuracy: 0.9789 - val_loss: 1.0827 - val_accuracy: 0.7879\n",
            "Epoch 71/100\n",
            "10/10 [==============================] - 2s 153ms/step - loss: 0.0407 - accuracy: 0.9806 - val_loss: 1.0745 - val_accuracy: 0.7652\n",
            "Epoch 72/100\n",
            "10/10 [==============================] - 2s 154ms/step - loss: 0.0459 - accuracy: 0.9798 - val_loss: 1.0034 - val_accuracy: 0.7879\n",
            "Epoch 73/100\n",
            "10/10 [==============================] - 2s 153ms/step - loss: 0.0519 - accuracy: 0.9781 - val_loss: 1.0838 - val_accuracy: 0.7955\n",
            "Epoch 74/100\n",
            "10/10 [==============================] - 2s 153ms/step - loss: 0.0397 - accuracy: 0.9823 - val_loss: 1.0618 - val_accuracy: 0.8030\n",
            "Epoch 75/100\n",
            "10/10 [==============================] - 2s 152ms/step - loss: 0.0395 - accuracy: 0.9823 - val_loss: 1.0118 - val_accuracy: 0.8030\n",
            "Epoch 76/100\n",
            "10/10 [==============================] - 2s 153ms/step - loss: 0.0356 - accuracy: 0.9823 - val_loss: 1.0511 - val_accuracy: 0.8106\n",
            "Epoch 77/100\n",
            "10/10 [==============================] - 2s 153ms/step - loss: 0.0358 - accuracy: 0.9823 - val_loss: 1.0537 - val_accuracy: 0.7727\n",
            "Epoch 78/100\n",
            "10/10 [==============================] - 2s 154ms/step - loss: 0.0316 - accuracy: 0.9831 - val_loss: 0.9975 - val_accuracy: 0.7879\n",
            "Epoch 79/100\n",
            "10/10 [==============================] - 2s 152ms/step - loss: 0.0392 - accuracy: 0.9815 - val_loss: 1.0449 - val_accuracy: 0.7652\n",
            "Epoch 80/100\n",
            "10/10 [==============================] - 2s 154ms/step - loss: 0.0413 - accuracy: 0.9815 - val_loss: 0.9685 - val_accuracy: 0.7803\n",
            "Epoch 81/100\n",
            "10/10 [==============================] - 2s 155ms/step - loss: 0.0296 - accuracy: 0.9823 - val_loss: 0.9428 - val_accuracy: 0.7803\n",
            "Epoch 82/100\n",
            "10/10 [==============================] - 2s 153ms/step - loss: 0.0290 - accuracy: 0.9831 - val_loss: 0.9364 - val_accuracy: 0.7879\n",
            "Epoch 83/100\n",
            "10/10 [==============================] - 2s 155ms/step - loss: 0.0288 - accuracy: 0.9789 - val_loss: 0.9839 - val_accuracy: 0.7727\n",
            "Epoch 84/100\n",
            "10/10 [==============================] - 2s 153ms/step - loss: 0.0293 - accuracy: 0.9840 - val_loss: 1.1307 - val_accuracy: 0.8106\n",
            "Epoch 85/100\n",
            "10/10 [==============================] - 2s 154ms/step - loss: 0.0402 - accuracy: 0.9806 - val_loss: 1.0099 - val_accuracy: 0.7879\n",
            "Epoch 86/100\n",
            "10/10 [==============================] - 2s 154ms/step - loss: 0.0377 - accuracy: 0.9781 - val_loss: 0.9618 - val_accuracy: 0.7879\n",
            "Epoch 87/100\n",
            "10/10 [==============================] - 2s 153ms/step - loss: 0.0327 - accuracy: 0.9840 - val_loss: 1.0084 - val_accuracy: 0.7879\n",
            "Epoch 88/100\n",
            "10/10 [==============================] - 2s 155ms/step - loss: 0.0290 - accuracy: 0.9815 - val_loss: 1.0360 - val_accuracy: 0.7879\n",
            "Epoch 89/100\n",
            "10/10 [==============================] - 2s 155ms/step - loss: 0.0303 - accuracy: 0.9815 - val_loss: 1.0747 - val_accuracy: 0.7652\n",
            "Epoch 90/100\n",
            "10/10 [==============================] - 2s 152ms/step - loss: 0.0310 - accuracy: 0.9815 - val_loss: 1.0755 - val_accuracy: 0.7652\n",
            "Epoch 91/100\n",
            "10/10 [==============================] - 2s 153ms/step - loss: 0.0278 - accuracy: 0.9831 - val_loss: 1.0613 - val_accuracy: 0.7727\n",
            "Epoch 92/100\n",
            "10/10 [==============================] - 2s 154ms/step - loss: 0.0340 - accuracy: 0.9798 - val_loss: 1.1313 - val_accuracy: 0.7652\n",
            "Epoch 93/100\n",
            "10/10 [==============================] - 2s 154ms/step - loss: 0.0390 - accuracy: 0.9798 - val_loss: 0.9995 - val_accuracy: 0.7727\n",
            "Epoch 94/100\n",
            "10/10 [==============================] - 2s 157ms/step - loss: 0.0361 - accuracy: 0.9831 - val_loss: 0.9755 - val_accuracy: 0.7879\n",
            "Epoch 95/100\n",
            "10/10 [==============================] - 2s 153ms/step - loss: 0.0312 - accuracy: 0.9823 - val_loss: 1.0195 - val_accuracy: 0.7652\n",
            "Epoch 96/100\n",
            "10/10 [==============================] - 2s 154ms/step - loss: 0.0330 - accuracy: 0.9823 - val_loss: 1.1703 - val_accuracy: 0.8182\n",
            "Epoch 97/100\n",
            "10/10 [==============================] - 2s 154ms/step - loss: 0.0383 - accuracy: 0.9831 - val_loss: 1.0966 - val_accuracy: 0.7727\n",
            "Epoch 98/100\n",
            "10/10 [==============================] - 2s 154ms/step - loss: 0.0367 - accuracy: 0.9848 - val_loss: 1.0268 - val_accuracy: 0.8106\n",
            "Epoch 99/100\n",
            "10/10 [==============================] - 2s 154ms/step - loss: 0.0333 - accuracy: 0.9823 - val_loss: 1.0209 - val_accuracy: 0.7500\n",
            "Epoch 100/100\n",
            "10/10 [==============================] - 1s 149ms/step - loss: 0.0445 - accuracy: 0.9823 - val_loss: 0.9345 - val_accuracy: 0.7955\n"
          ],
          "name": "stdout"
        }
      ]
    },
    {
      "cell_type": "code",
      "metadata": {
        "colab": {
          "base_uri": "https://localhost:8080/",
          "height": 301
        },
        "id": "19FUUNm9gOKl",
        "outputId": "3e97d14f-902d-4edd-ee80-a495555b2371"
      },
      "source": [
        "plt.plot(history.history['accuracy'], label='accuracy')\n",
        "plt.plot(history.history['val_accuracy'], label = 'val_accuracy')\n",
        "plt.xlabel('Epoch')\n",
        "plt.ylabel('Accuracy')\n",
        "plt.ylim([0.5, 1])\n",
        "plt.legend(loc='lower right')\n",
        "plt.plot(np.arange(0, 100), history.history[\"loss\"], label=\"train_loss\")\n",
        "plt.plot(np.arange(0, 100), history.history[\"val_loss\"], label=\"val_loss\")"
      ],
      "execution_count": null,
      "outputs": [
        {
          "output_type": "execute_result",
          "data": {
            "text/plain": [
              "[<matplotlib.lines.Line2D at 0x7f182a8f65d0>]"
            ]
          },
          "metadata": {
            "tags": []
          },
          "execution_count": 82
        },
        {
          "output_type": "display_data",
          "data": {
            "image/png": "[encoded data removed]",
            "text/plain": [
              "<Figure size 432x288 with 1 Axes>"
            ]
          },
          "metadata": {
            "tags": [],
            "needs_background": "light"
          }
        }
      ]
    },
    {
      "cell_type": "code",
      "metadata": {
        "id": "YBXnPqTXhOmj",
        "colab": {
          "base_uri": "https://localhost:8080/"
        },
        "outputId": "bd1a6af4-cfe1-496e-90e2-9209a6fd6677"
      },
      "source": [
        "result = model.evaluate(x=X_calamity,\n",
        "                         y=y_calamity)"
      ],
      "execution_count": null,
      "outputs": [
        {
          "output_type": "stream",
          "text": [
            "42/42 [==============================] - 1s 16ms/step - loss: 0.1267 - accuracy: 0.9651\n"
          ],
          "name": "stdout"
        }
      ]
    },
    {
      "cell_type": "code",
      "metadata": {
        "id": "IpH6WDmnhS_A"
      },
      "source": [
        "_,img_shape, image_shape,_=X_calamity.shape"
      ],
      "execution_count": null,
      "outputs": []
    },
    {
      "cell_type": "code",
      "metadata": {
        "id": "Gxj4L_QRhVyt",
        "colab": {
          "base_uri": "https://localhost:8080/"
        },
        "outputId": "06c709f0-6769-4af9-da30-11e1cf0a7dc9"
      },
      "source": [
        "image_shape=img_shape,img_shape,3\n",
        "image_shape"
      ],
      "execution_count": null,
      "outputs": [
        {
          "output_type": "execute_result",
          "data": {
            "text/plain": [
              "(200, 200, 3)"
            ]
          },
          "metadata": {
            "tags": []
          },
          "execution_count": 85
        }
      ]
    },
    {
      "cell_type": "code",
      "metadata": {
        "id": "2CUhZgCOhYI2"
      },
      "source": [
        "#Helper Function to plot images \n",
        "def plot_images(images, cls_true, cls_pred=None):\n",
        "    assert len(images) == len(cls_true) == 9\n",
        "    \n",
        "    # Create figure with 3x3 sub-plots.\n",
        "    fig, axes = plt.subplots(3, 3)\n",
        "    fig.subplots_adjust(hspace=0.3, wspace=0.3)\n",
        "\n",
        "    for i, ax in enumerate(axes.flat):\n",
        "        # Plot image.\n",
        "        ax.imshow(images[i].reshape(image_shape), cmap='binary')\n",
        "\n",
        "        # Show true and predicted classes.\n",
        "        if cls_pred is None:\n",
        "            xlabel = \"True: {0}\".format(cls_true[i])\n",
        "        else:\n",
        "            xlabel = \"True: {0}, Pred: {1}\".format(cls_true[i], cls_pred[i])\n",
        "\n",
        "        # Show the classes as the label on the x-axis.\n",
        "        ax.set_xlabel(xlabel)\n",
        "        \n",
        "        # Remove ticks from the plot.\n",
        "        ax.set_xticks([])\n",
        "        ax.set_yticks([])\n",
        "    \n",
        "    # Ensure the plot is shown correctly with multiple plots\n",
        "    # in a single Notebook cell.\n",
        "    plt.show()\n",
        "    \n"
      ],
      "execution_count": null,
      "outputs": []
    },
    {
      "cell_type": "code",
      "metadata": {
        "id": "_eLGUpcljJMg"
      },
      "source": [
        "#Predictions\n",
        "images = X_calamity[0:9]"
      ],
      "execution_count": null,
      "outputs": []
    },
    {
      "cell_type": "code",
      "metadata": {
        "id": "11_x_ygkjUhK"
      },
      "source": [
        "cls_true =y_calamity[0:9]"
      ],
      "execution_count": null,
      "outputs": []
    },
    {
      "cell_type": "code",
      "metadata": {
        "id": "bwyW7QVnjZzI"
      },
      "source": [
        "y_pred = model.predict(x=images)"
      ],
      "execution_count": null,
      "outputs": []
    },
    {
      "cell_type": "code",
      "metadata": {
        "id": "iHZpS3bFjbbW"
      },
      "source": [
        "cls_pred = np.argmax(y_pred, axis=1)"
      ],
      "execution_count": null,
      "outputs": []
    },
    {
      "cell_type": "code",
      "metadata": {
        "id": "ChnpbZhPjfdW",
        "colab": {
          "base_uri": "https://localhost:8080/",
          "height": 262
        },
        "outputId": "c58370d9-5f1c-4fbc-a7ac-a41b7b7b766c"
      },
      "source": [
        "plot_images(images=images,\n",
        "            cls_true=cls_true,\n",
        "            cls_pred=cls_pred)"
      ],
      "execution_count": null,
      "outputs": [
        {
          "output_type": "display_data",
          "data": {
            "image/png": "[encoded data removed]",
            "text/plain": [
              "<Figure size 432x288 with 9 Axes>"
            ]
          },
          "metadata": {
            "tags": []
          }
        }
      ]
    },
    {
      "cell_type": "code",
      "metadata": {
        "id": "ZmDSO_8fjghT"
      },
      "source": [
        "#Helper Function to plot incorrect images\n",
        "def plot_example_errors(cls_pred):\n",
        "    # cls_pred is an array of the predicted class-number for\n",
        "    # all images in the test-set.\n",
        "\n",
        "    # Boolean array whether the predicted class is incorrect.\n",
        "    incorrect = (cls_pred != y_calamity)\n",
        "\n",
        "    # Get the images from the test-set that have been\n",
        "    # incorrectly classified.\n",
        "    images = X_calamity[incorrect]\n",
        "    \n",
        "    # Get the predicted classes for those images.\n",
        "    cls_pred = cls_pred[incorrect]\n",
        "\n",
        "    # Get the true classes for those images.\n",
        "    cls_true = y_calamity[incorrect]\n",
        "    \n",
        "    # Plot the first 9 images.\n",
        "    plot_images(images=images[0:9],\n",
        "                cls_true=cls_true[0:9],\n",
        "                cls_pred=cls_pred[0:9])"
      ],
      "execution_count": null,
      "outputs": []
    },
    {
      "cell_type": "code",
      "metadata": {
        "id": "Nzva-kbfjmjq"
      },
      "source": [
        "y_pred = model.predict(x=X_calamity)"
      ],
      "execution_count": null,
      "outputs": []
    },
    {
      "cell_type": "code",
      "metadata": {
        "id": "Xh4xzr3xjqVZ"
      },
      "source": [
        "cls_pred = np.argmax(y_pred, axis=1)"
      ],
      "execution_count": null,
      "outputs": []
    },
    {
      "cell_type": "code",
      "metadata": {
        "id": "5-PJ2O9ieiXw"
      },
      "source": [
        "!pip install -q pyyaml h5py "
      ],
      "execution_count": null,
      "outputs": []
    },
    {
      "cell_type": "code",
      "metadata": {
        "colab": {
          "base_uri": "https://localhost:8080/"
        },
        "id": "OjIrJnmXZj9z",
        "outputId": "b22343a5-6075-484d-fe7b-11ac147eba65"
      },
      "source": [
        "# load_model_sample.py\n",
        "from keras.models import load_model\n",
        "from keras.preprocessing import image\n",
        "import matplotlib.pyplot as plt\n",
        "import numpy as np\n",
        "import os\n",
        "\n",
        "\n",
        "def load_image(img_path, show=False):\n",
        "\n",
        "    img = image.load_img(img_path, target_size=(200, 200))\n",
        "    img_tensor = image.img_to_array(img)                    # (height, width, channels)\n",
        "    img_tensor = np.expand_dims(img_tensor, axis=0)         # (1, height, width, channels), add a dimension because the model expects this shape: (batch_size, height, width, channels)\n",
        "    img_tensor /= 255.                                      # imshow expects values in the range [0, 1]\n",
        "\n",
        "    if show:\n",
        "        plt.imshow(img_tensor[0])                           \n",
        "        plt.axis('off')\n",
        "        plt.show()\n",
        "\n",
        "    return img_tensor\n",
        "\n",
        "\n",
        "if __name__ == \"__main__\":\n",
        "\n",
        "    # load model\n",
        "    model = load_model(\"/content/gdrive/MyDrive/Model/model.h5\")\n",
        "\n",
        "    # image path\n",
        "    img_path = '/content/2NrTmPW9XnRMczrPiRM8M3.jpg'    \n",
        "\n",
        "    # load a single image\n",
        "    new_image = load_image(img_path)\n",
        "\n",
        "    # check prediction\n",
        "    pred = model.predict(new_image)\n",
        "    #print(pred)\n",
        "    if pred<=0.49715963:\n",
        "      print(\"Damaged\")\n",
        "    else:\n",
        "      print(\"Undamaged\")\n"
      ],
      "execution_count": null,
      "outputs": [
        {
          "output_type": "stream",
          "text": [
            "Damaged\n"
          ],
          "name": "stdout"
        }
      ]
    },
    {
      "cell_type": "code",
      "metadata": {
        "colab": {
          "base_uri": "https://localhost:8080/"
        },
        "id": "aB_Cx7FPAoMA",
        "outputId": "fdccb659-5b85-4fa9-fa24-513997a3dae5"
      },
      "source": [
        "# load_model_sample.py\n",
        "from keras.models import load_model\n",
        "from keras.preprocessing import image\n",
        "import matplotlib.pyplot as plt\n",
        "import numpy as np\n",
        "import os\n",
        "\n",
        "\n",
        "def load_image(img_path, show=False):\n",
        "\n",
        "    img = image.load_img(img_path, target_size=(200, 200))\n",
        "    img_tensor = image.img_to_array(img)                    # (height, width, channels)\n",
        "    img_tensor = np.expand_dims(img_tensor, axis=0)         # (1, height, width, channels), add a dimension because the model expects this shape: (batch_size, height, width, channels)\n",
        "    img_tensor /= 255.                                      # imshow expects values in the range [0, 1]\n",
        "\n",
        "    if show:\n",
        "        plt.imshow(img_tensor[0])                           \n",
        "        plt.axis('off')\n",
        "        plt.show()\n",
        "\n",
        "    return img_tensor\n",
        "\n",
        "\n",
        "if __name__ == \"__main__\":\n",
        "\n",
        "    # load model\n",
        "    model = load_model(\"/content/gdrive/MyDrive/Model/model.h5\")\n",
        "\n",
        "    # image path\n",
        "    img_path = '/content/google-earth-satellite-image_1.jpg'    \n",
        "\n",
        "    # load a single image\n",
        "    new_image = load_image(img_path)\n",
        "\n",
        "    # check prediction\n",
        "    pred = model.predict(new_image)\n",
        "    #print(pred)\n",
        "    if pred<=0.49715963:\n",
        "      print(\"Damaged\")\n",
        "    else:\n",
        "      print(\"Undamaged\")"
      ],
      "execution_count": null,
      "outputs": [
        {
          "output_type": "stream",
          "text": [
            "Undamaged\n"
          ],
          "name": "stdout"
        }
      ]
    }
  ]
}